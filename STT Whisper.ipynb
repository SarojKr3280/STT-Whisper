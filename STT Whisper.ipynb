{
 "cells": [
  {
   "cell_type": "code",
   "execution_count": 1,
   "id": "c97b388c",
   "metadata": {},
   "outputs": [],
   "source": [
    "# pip install transformers datasets torch librosa"
   ]
  },
  {
   "cell_type": "code",
   "execution_count": 2,
   "id": "3be99056",
   "metadata": {},
   "outputs": [],
   "source": [
    "from transformers import AutoProcessor, AutoModelForSpeechSeq2Seq\n",
    "import torch\n",
    "import librosa\n",
    "import requests\n",
    "import os\n",
    "\n",
    "# pip install paramiko --upgrade\n",
    "# pip install cryptography --upgrade\n",
    "\n",
    "import warnings\n",
    "warnings.filterwarnings(\"ignore\", category=DeprecationWarning)"
   ]
  },
  {
   "cell_type": "code",
   "execution_count": 3,
   "id": "0e9f4ba6",
   "metadata": {},
   "outputs": [],
   "source": [
    "model_name = \"openai/whisper-small\"\n",
    "processor = AutoProcessor.from_pretrained(model_name)\n",
    "model = AutoModelForSpeechSeq2Seq.from_pretrained(model_name).to(\"cuda\" if torch.cuda.is_available() else \"cpu\")"
   ]
  },
  {
   "cell_type": "code",
   "execution_count": 8,
   "id": "3b432856",
   "metadata": {
    "scrolled": true
   },
   "outputs": [
    {
     "name": "stdout",
     "output_type": "stream",
     "text": [
      "Transcription:\n",
      "  Please type your statement for a winner statement. Address is Sample Solicitors. Address 1, Address 2, Address 3 and then Post-Grid Underneath. The date is the 19th of February 2010. Your reference is A for Alpha, B for Bravo, C for Charlie, Slash, P for Papa, Q for Quebec, R for Romeo, Slash 1, 2, Slash 3, 4, 5. Our reference is A for Alpha, C for Charlie, C for Charlie, 9, 8, 7, 7, 8, 9, 9, 9, 9, 9, 9, 9, 9, 9, 9, 9, 9, 9, 9, 9, 9, 9, 9, 9, 9, 9, 9, 9, 9, 9, 9, 9, 9, 9, 9, 9, 9, 9, 9, 9, 9, 9, 9, 9, 9, 9, 9, 9, 9, 9, 9, 9, 9, 9, 9, 9, 9, 9, 9, 9, 9, 9, 9, 9, 9, 9, 9, 9, 9, 9, 9, 9, 9, 9, 9, 9, 9, 9, 9, 9, 9, 9, 9, 9, 9, 9, 9, 9, 9, 9, 9, 9, 9, 9, 9, 9, 9, 9, 9, 9, 9, 9, 9, 9, 9, 9, 9, 9, 9, 9, 9, 9, 9, 9, 9, 9, 9, 9, 9, 9, 9, 9, 9, 9, 9, 9, 9, 9, 9, 9, 9, 9, 9, 9, 9, 9, 9, 9, 9, 9, 9, 9, 9, 9, 9, 9, 9, 9, 9, 9, 9, 9, 9, 9, 9, 9, 9, 9, 9, 9, 9, 9, 9, 9, 9, 9, 9, 9, 9  Next line  Please type Client underlined and bold as the head in.  We would refer to the attached statement which you will wish to consider in its entirety. Calmer but briefly the main points can be summarised as follows. Next head in, A, full stop and then accident circumstances in bold not underlined. Next paragraph please point these. He was working for Simple Signs Ltd as a factory operative and had been since the 9th of the first 2007. The full stop the company manufactured road signs and he stayed  The incident happened on 12 May 2008 at 10.30am. His normal job would be to place templates on metal road signs, but this was not required and so he was told to pull the feet off barriers. Barriers were used by construction companies and they needed to be respray yellow from the stop. He was told by his supervisor, John Smith, to pull the barriers off their supporting feet instead of using a sledgehammer. The government, as it was suggested, that a sledgehammer would be used to pull the feet off the road.  break the feet full stop. It was also suggested that a machine could be used but it was cheaper to use manual labour full stop. New bullet point. He was on his third barrier and was pulling his out of his feet when he tore the shoulder muscles and his left shoulder. Full stop. New bullet point. He spoke to John Smith about his injury who said he was just trying to get out of the job full stop. However, Comet, when your client stated that he needed to go to hospital, Comet, John replied, get yourself away then. Put yourself away then in inverted commas please.  New bullet points. He is not aware if the incident was reported in the accident report book and he is not aware of any health and safety executive investigation. Full stop new bullet point. He believed the incident could have been avoided if he had taken the feet off with a sledgehammer full stop. He also reiterated that the feet would normally be taken off with a machine, but the inverted commas. John Smith wanted to pull them off because it was much cheaper closing inverted commas. New bullet points. He states there was no health and safety policy in place at all.  at all at the time of the incident and he had never signed any health and safety documents. Full stop. Next heading is B. Full stop and then Quantum. Please put that in bold and then start a new bullet point. He arrived at hospital at 12.30pm and was seen by a doctor. He was given a support from his shoulder and told to take painkillers full stop. He was diagnosed as he had torn muscles in his left shoulder and had tissue damage. Full stop. He was told to get a signal from his GP. Full stop.  Next bullet point, ultimately he got a sickness for some three stroke four weeks full stop and new bullet point. He still continues to see his GP once each month and is prescribed numerous medications. He has not had any physiotherapy and continues to have problems sleeping and cannot do any heavy lifting full stop. He just climbs the difficulties he has in cold weather and in connection with his social life and domestic duties and as a result he has been unemployed for the last 13 months.  The bullet points he did get a job as a lorry driver in June 2009 but only lasted four days due to his shoulder injury full stop. End of the bullet points, new head in, opinion stroke recommendation which is bold and underlined, new paragraph not bullet pointed. The claimant suggests that there was no health and safety policy enforced at his place of employment and he was never given any manual hand-leaning training. He describes being instructed to pull the barriers out of their supporting feet by hand, which suggests that on occasion this would have been performed by a machine, but it was  was in inverted commas cheaper to use manual labour. Full stop furthermore he had been told not to use a sledgehammer to dislodge the feet as that had the potential of damaging the full stop new paragraph. If indeed he had not gone through any manual handling training comas and clearly his employers will have a case to answer and may well struggle to evidence any risk assessment relating to the activities he was undertaking at the material time full stop. New heading is time sheet which is boldly aligned. Under that we have engaged  Next header is enclosures.  version of the draft statement we have taken. Next bullet point of note of our fee. Next line. If we can be of any further assistance please do not hesitate to let us know. Yours faithfully.\n"
     ]
    }
   ],
   "source": [
    "def transcribe_audio(audio_path, chunk_duration=30):\n",
    "    \"\"\"Load and transcribe audio in chunks to handle long files.\"\"\"\n",
    "    try:\n",
    "        # Load the audio file\n",
    "        audio, sr = librosa.load(audio_path, sr=16000)\n",
    "        \n",
    "        # Split audio into 30-second chunks\n",
    "        chunk_size = chunk_duration * sr\n",
    "        total_chunks = len(audio) // chunk_size + (1 if len(audio) % chunk_size != 0 else 0)\n",
    "        \n",
    "        # Transcribing each chunk and combine results\n",
    "        transcriptions = []\n",
    "        for i in range(total_chunks):\n",
    "            start = i * chunk_size\n",
    "            end = (i + 1) * chunk_size\n",
    "            chunk = audio[start:end]\n",
    "            \n",
    "            # Processing the chunk using Whisper\n",
    "            inputs = processor(chunk, sampling_rate=16000, return_tensors=\"pt\", return_attention_mask=True)\n",
    "            input_features = inputs.input_features.to(\"cuda\" if torch.cuda.is_available() else \"cpu\")\n",
    "            attention_mask = inputs.attention_mask.to(\"cuda\" if torch.cuda.is_available() else \"cpu\")\n",
    "\n",
    "            # Generating transcription in English\n",
    "            with torch.no_grad():\n",
    "                generated_ids = model.generate(\n",
    "                    input_features,\n",
    "                    attention_mask=attention_mask,\n",
    "                    forced_decoder_ids=processor.get_decoder_prompt_ids(language=\"en\", task=\"transcribe\")\n",
    "                )\n",
    "\n",
    "            # Decoding  transcription\n",
    "            transcription = processor.batch_decode(generated_ids, skip_special_tokens=True)[0]\n",
    "            transcriptions.append(transcription)\n",
    "\n",
    "        # Joining transcriptions of all chunks\n",
    "        final_transcription = \" \".join(transcriptions)\n",
    "        return final_transcription\n",
    "    \n",
    "    except Exception as e:\n",
    "        return f\"Error processing audio: {str(e)}\"\n",
    "\n",
    "\n",
    "def download_audio(url, save_path=\"downloaded_audio.mp3\"):\n",
    "    \"\"\"Download audio file from a URL.\"\"\"\n",
    "    try:\n",
    "        response = requests.get(url)\n",
    "        if response.status_code == 200:\n",
    "            with open(save_path, \"wb\") as f:\n",
    "                f.write(response.content)\n",
    "            return save_path\n",
    "        else:\n",
    "            return None\n",
    "    except Exception as e:\n",
    "        return None\n",
    "\n",
    "# For local file\n",
    "# audio_file_path = r\"C:\\Users\\91705\\Desktop\\CYFUTURE\\transcribing.mp3\"  \n",
    "\n",
    "# For remote audios from internet\n",
    "audio_url = \"https://www.nch.com.au/scribe/practice/audio-sample-1.mp3\"\n",
    "\n",
    "# Checking if URL is provided\n",
    "if audio_url:\n",
    "    audio_file_path = download_audio(audio_url)\n",
    "    if not audio_file_path:\n",
    "        print(\"Error: Failed to download audio from URL.\")\n",
    "        exit()\n",
    "\n",
    "# Transcribing audio\n",
    "if os.path.exists(audio_file_path):\n",
    "    result = transcribe_audio(audio_file_path)\n",
    "    print(\"Transcription:\\n\", result)\n",
    "    \n",
    "else:\n",
    "    print(\"Error: Audio file not found.\")\n",
    "\n"
   ]
  }
 ],
 "metadata": {
  "kernelspec": {
   "display_name": "Python 3 (ipykernel)",
   "language": "python",
   "name": "python3"
  },
  "language_info": {
   "codemirror_mode": {
    "name": "ipython",
    "version": 3
   },
   "file_extension": ".py",
   "mimetype": "text/x-python",
   "name": "python",
   "nbconvert_exporter": "python",
   "pygments_lexer": "ipython3",
   "version": "3.9.13"
  }
 },
 "nbformat": 4,
 "nbformat_minor": 5
}
